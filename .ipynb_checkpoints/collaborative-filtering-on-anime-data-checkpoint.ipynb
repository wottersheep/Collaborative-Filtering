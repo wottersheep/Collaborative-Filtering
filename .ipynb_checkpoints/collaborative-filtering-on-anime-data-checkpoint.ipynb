{
 "cells": [
  {
   "cell_type": "markdown",
   "metadata": {
    "_cell_guid": "cde0f61c-f6ab-40b6-a757-c9394566aa62"
   },
   "source": [
    "Here I want to make a simple recommender system to gauge the similarity between shows, users and to help me predict whether a user will enjoy a particular anime."
   ]
  },
  {
   "cell_type": "code",
   "execution_count": 12,
   "metadata": {
    "_cell_guid": "27f2680b-e691-70e4-e762-1bca22449d14"
   },
   "outputs": [],
   "source": [
    "# Import relevant libraries \n",
    "\n",
    "import pandas as pd\n",
    "import numpy as np\n",
    "import scipy as sp\n",
    "from sklearn.metrics.pairwise import cosine_similarity\n",
    "import operator\n",
    "%matplotlib inline"
   ]
  },
  {
   "cell_type": "code",
   "execution_count": 13,
   "metadata": {
    "_cell_guid": "f5c1d1b7-983a-daa8-27ab-d25011d1f669"
   },
   "outputs": [],
   "source": [
    "anime = pd.read_csv('anime.csv')\n",
    "rating = pd.read_csv('rating.csv')"
   ]
  },
  {
   "cell_type": "markdown",
   "metadata": {
    "_cell_guid": "1f7f4306-2875-ee63-71e8-febb486605e6"
   },
   "source": [
    "Before alteration the ratings dataset uses a \"-1\" to represent missing ratings.\n",
    "I'm replacing these placeholders with a null value because I will later be calculating \n",
    "the average rating per user and don't want the average to be distorted"
   ]
  },
  {
   "cell_type": "code",
   "execution_count": 14,
   "metadata": {
    "_cell_guid": "30c96da8-d202-85cc-c546-47d31b39c04b"
   },
   "outputs": [
    {
     "data": {
      "text/html": [
       "<div>\n",
       "<style scoped>\n",
       "    .dataframe tbody tr th:only-of-type {\n",
       "        vertical-align: middle;\n",
       "    }\n",
       "\n",
       "    .dataframe tbody tr th {\n",
       "        vertical-align: top;\n",
       "    }\n",
       "\n",
       "    .dataframe thead th {\n",
       "        text-align: right;\n",
       "    }\n",
       "</style>\n",
       "<table border=\"1\" class=\"dataframe\">\n",
       "  <thead>\n",
       "    <tr style=\"text-align: right;\">\n",
       "      <th></th>\n",
       "      <th>user_id</th>\n",
       "      <th>anime_id</th>\n",
       "      <th>rating</th>\n",
       "    </tr>\n",
       "  </thead>\n",
       "  <tbody>\n",
       "    <tr>\n",
       "      <th>0</th>\n",
       "      <td>1</td>\n",
       "      <td>20</td>\n",
       "      <td>NaN</td>\n",
       "    </tr>\n",
       "    <tr>\n",
       "      <th>1</th>\n",
       "      <td>1</td>\n",
       "      <td>24</td>\n",
       "      <td>NaN</td>\n",
       "    </tr>\n",
       "    <tr>\n",
       "      <th>2</th>\n",
       "      <td>1</td>\n",
       "      <td>79</td>\n",
       "      <td>NaN</td>\n",
       "    </tr>\n",
       "    <tr>\n",
       "      <th>3</th>\n",
       "      <td>1</td>\n",
       "      <td>226</td>\n",
       "      <td>NaN</td>\n",
       "    </tr>\n",
       "    <tr>\n",
       "      <th>4</th>\n",
       "      <td>1</td>\n",
       "      <td>241</td>\n",
       "      <td>NaN</td>\n",
       "    </tr>\n",
       "  </tbody>\n",
       "</table>\n",
       "</div>"
      ],
      "text/plain": [
       "   user_id  anime_id  rating\n",
       "0        1        20     NaN\n",
       "1        1        24     NaN\n",
       "2        1        79     NaN\n",
       "3        1       226     NaN\n",
       "4        1       241     NaN"
      ]
     },
     "execution_count": 14,
     "metadata": {},
     "output_type": "execute_result"
    }
   ],
   "source": [
    "rating.rating.replace({-1: np.nan}, regex=True, inplace = True)\n",
    "rating.head()"
   ]
  },
  {
   "cell_type": "code",
   "execution_count": 15,
   "metadata": {
    "_cell_guid": "42760207-0e77-e6cc-03c1-5cb3d2107991"
   },
   "outputs": [
    {
     "data": {
      "text/html": [
       "<div>\n",
       "<style scoped>\n",
       "    .dataframe tbody tr th:only-of-type {\n",
       "        vertical-align: middle;\n",
       "    }\n",
       "\n",
       "    .dataframe tbody tr th {\n",
       "        vertical-align: top;\n",
       "    }\n",
       "\n",
       "    .dataframe thead th {\n",
       "        text-align: right;\n",
       "    }\n",
       "</style>\n",
       "<table border=\"1\" class=\"dataframe\">\n",
       "  <thead>\n",
       "    <tr style=\"text-align: right;\">\n",
       "      <th></th>\n",
       "      <th>anime_id</th>\n",
       "      <th>name</th>\n",
       "      <th>genre</th>\n",
       "      <th>type</th>\n",
       "      <th>episodes</th>\n",
       "      <th>rating</th>\n",
       "      <th>members</th>\n",
       "    </tr>\n",
       "  </thead>\n",
       "  <tbody>\n",
       "    <tr>\n",
       "      <th>1</th>\n",
       "      <td>5114</td>\n",
       "      <td>Fullmetal Alchemist: Brotherhood</td>\n",
       "      <td>Action, Adventure, Drama, Fantasy, Magic, Mili...</td>\n",
       "      <td>TV</td>\n",
       "      <td>64</td>\n",
       "      <td>9.26</td>\n",
       "      <td>793665</td>\n",
       "    </tr>\n",
       "    <tr>\n",
       "      <th>2</th>\n",
       "      <td>28977</td>\n",
       "      <td>Gintama°</td>\n",
       "      <td>Action, Comedy, Historical, Parody, Samurai, S...</td>\n",
       "      <td>TV</td>\n",
       "      <td>51</td>\n",
       "      <td>9.25</td>\n",
       "      <td>114262</td>\n",
       "    </tr>\n",
       "    <tr>\n",
       "      <th>3</th>\n",
       "      <td>9253</td>\n",
       "      <td>Steins;Gate</td>\n",
       "      <td>Sci-Fi, Thriller</td>\n",
       "      <td>TV</td>\n",
       "      <td>24</td>\n",
       "      <td>9.17</td>\n",
       "      <td>673572</td>\n",
       "    </tr>\n",
       "    <tr>\n",
       "      <th>4</th>\n",
       "      <td>9969</td>\n",
       "      <td>Gintama&amp;#039;</td>\n",
       "      <td>Action, Comedy, Historical, Parody, Samurai, S...</td>\n",
       "      <td>TV</td>\n",
       "      <td>51</td>\n",
       "      <td>9.16</td>\n",
       "      <td>151266</td>\n",
       "    </tr>\n",
       "    <tr>\n",
       "      <th>5</th>\n",
       "      <td>32935</td>\n",
       "      <td>Haikyuu!!: Karasuno Koukou VS Shiratorizawa Ga...</td>\n",
       "      <td>Comedy, Drama, School, Shounen, Sports</td>\n",
       "      <td>TV</td>\n",
       "      <td>10</td>\n",
       "      <td>9.15</td>\n",
       "      <td>93351</td>\n",
       "    </tr>\n",
       "  </tbody>\n",
       "</table>\n",
       "</div>"
      ],
      "text/plain": [
       "   anime_id                                               name  \\\n",
       "1      5114                   Fullmetal Alchemist: Brotherhood   \n",
       "2     28977                                           Gintama°   \n",
       "3      9253                                        Steins;Gate   \n",
       "4      9969                                      Gintama&#039;   \n",
       "5     32935  Haikyuu!!: Karasuno Koukou VS Shiratorizawa Ga...   \n",
       "\n",
       "                                               genre type episodes  rating  \\\n",
       "1  Action, Adventure, Drama, Fantasy, Magic, Mili...   TV       64    9.26   \n",
       "2  Action, Comedy, Historical, Parody, Samurai, S...   TV       51    9.25   \n",
       "3                                   Sci-Fi, Thriller   TV       24    9.17   \n",
       "4  Action, Comedy, Historical, Parody, Samurai, S...   TV       51    9.16   \n",
       "5             Comedy, Drama, School, Shounen, Sports   TV       10    9.15   \n",
       "\n",
       "   members  \n",
       "1   793665  \n",
       "2   114262  \n",
       "3   673572  \n",
       "4   151266  \n",
       "5    93351  "
      ]
     },
     "execution_count": 15,
     "metadata": {},
     "output_type": "execute_result"
    }
   ],
   "source": [
    "# For this analysis I'm only interest in finding recommendations for the TV category\n",
    "\n",
    "anime_tv = anime[anime['type']=='TV']\n",
    "anime_tv.head()"
   ]
  },
  {
   "cell_type": "code",
   "execution_count": 16,
   "metadata": {
    "_cell_guid": "333be05a-5492-67a2-a64c-154a52ac060f"
   },
   "outputs": [],
   "source": [
    "# Join the two dataframes on the anime_id columns\n",
    "\n",
    "merged = rating.merge(anime_tv, left_on = 'anime_id', right_on = 'anime_id', suffixes= ['_user', ''])\n",
    "merged.rename(columns = {'rating_user':'user_rating'}, inplace = True)"
   ]
  },
  {
   "cell_type": "code",
   "execution_count": 17,
   "metadata": {
    "_cell_guid": "15cfaaf3-96c1-b14e-1742-11283997fc7a"
   },
   "outputs": [
    {
     "data": {
      "text/html": [
       "<div>\n",
       "<style scoped>\n",
       "    .dataframe tbody tr th:only-of-type {\n",
       "        vertical-align: middle;\n",
       "    }\n",
       "\n",
       "    .dataframe tbody tr th {\n",
       "        vertical-align: top;\n",
       "    }\n",
       "\n",
       "    .dataframe thead th {\n",
       "        text-align: right;\n",
       "    }\n",
       "</style>\n",
       "<table border=\"1\" class=\"dataframe\">\n",
       "  <thead>\n",
       "    <tr style=\"text-align: right;\">\n",
       "      <th></th>\n",
       "      <th>user_id</th>\n",
       "      <th>name</th>\n",
       "      <th>user_rating</th>\n",
       "    </tr>\n",
       "  </thead>\n",
       "  <tbody>\n",
       "    <tr>\n",
       "      <th>0</th>\n",
       "      <td>1</td>\n",
       "      <td>Naruto</td>\n",
       "      <td>NaN</td>\n",
       "    </tr>\n",
       "    <tr>\n",
       "      <th>1</th>\n",
       "      <td>3</td>\n",
       "      <td>Naruto</td>\n",
       "      <td>8.0</td>\n",
       "    </tr>\n",
       "    <tr>\n",
       "      <th>2</th>\n",
       "      <td>5</td>\n",
       "      <td>Naruto</td>\n",
       "      <td>6.0</td>\n",
       "    </tr>\n",
       "    <tr>\n",
       "      <th>3</th>\n",
       "      <td>6</td>\n",
       "      <td>Naruto</td>\n",
       "      <td>NaN</td>\n",
       "    </tr>\n",
       "    <tr>\n",
       "      <th>4</th>\n",
       "      <td>10</td>\n",
       "      <td>Naruto</td>\n",
       "      <td>NaN</td>\n",
       "    </tr>\n",
       "  </tbody>\n",
       "</table>\n",
       "</div>"
      ],
      "text/plain": [
       "   user_id    name  user_rating\n",
       "0        1  Naruto          NaN\n",
       "1        3  Naruto          8.0\n",
       "2        5  Naruto          6.0\n",
       "3        6  Naruto          NaN\n",
       "4       10  Naruto          NaN"
      ]
     },
     "execution_count": 17,
     "metadata": {},
     "output_type": "execute_result"
    }
   ],
   "source": [
    "# For computing reasons I'm limiting the dataframe length to 10,000 users\n",
    "\n",
    "merged=merged[['user_id', 'name', 'user_rating']]\n",
    "merged_sub= merged[merged.user_id <= 10000]\n",
    "merged_sub.head()"
   ]
  },
  {
   "cell_type": "markdown",
   "metadata": {
    "_cell_guid": "422fb6ee-644a-562f-ae27-99e759feaa6e"
   },
   "source": [
    "For collaborative filtering we'll need to create a pivot table of users on one axis and tv show names along the other. The pivot table will help us in defining the similarity between users and shows to better predict who will like what."
   ]
  },
  {
   "cell_type": "code",
   "execution_count": 18,
   "metadata": {
    "_cell_guid": "f7e42fe9-5cf2-c1fb-52ae-1d512c248a72"
   },
   "outputs": [],
   "source": [
    "piv = merged_sub.pivot_table(index=['user_id'], columns=['name'], values='user_rating')"
   ]
  },
  {
   "cell_type": "code",
   "execution_count": 19,
   "metadata": {
    "_cell_guid": "978bc3ed-21c1-d563-13a8-f0b3056e8e7a"
   },
   "outputs": [
    {
     "name": "stdout",
     "output_type": "stream",
     "text": [
      "(9387, 2708)\n"
     ]
    },
    {
     "data": {
      "text/html": [
       "<div>\n",
       "<style scoped>\n",
       "    .dataframe tbody tr th:only-of-type {\n",
       "        vertical-align: middle;\n",
       "    }\n",
       "\n",
       "    .dataframe tbody tr th {\n",
       "        vertical-align: top;\n",
       "    }\n",
       "\n",
       "    .dataframe thead th {\n",
       "        text-align: right;\n",
       "    }\n",
       "</style>\n",
       "<table border=\"1\" class=\"dataframe\">\n",
       "  <thead>\n",
       "    <tr style=\"text-align: right;\">\n",
       "      <th>name</th>\n",
       "      <th>.hack//Roots</th>\n",
       "      <th>.hack//Sign</th>\n",
       "      <th>.hack//Tasogare no Udewa Densetsu</th>\n",
       "      <th>009-1</th>\n",
       "      <th>07-Ghost</th>\n",
       "      <th>11eyes</th>\n",
       "      <th>12-sai.: Chicchana Mune no Tokimeki</th>\n",
       "      <th>3 Choume no Tama: Uchi no Tama Shirimasenka?</th>\n",
       "      <th>30-sai no Hoken Taiiku</th>\n",
       "      <th>91 Days</th>\n",
       "      <th>...</th>\n",
       "      <th>Zone of the Enders: Dolores, I</th>\n",
       "      <th>Zukkoke Knight: Don De La Mancha</th>\n",
       "      <th>ef: A Tale of Melodies.</th>\n",
       "      <th>ef: A Tale of Memories.</th>\n",
       "      <th>gdgd Fairies</th>\n",
       "      <th>gdgd Fairies 2</th>\n",
       "      <th>iDOLM@STER Xenoglossia</th>\n",
       "      <th>s.CRY.ed</th>\n",
       "      <th>xxxHOLiC</th>\n",
       "      <th>xxxHOLiC Kei</th>\n",
       "    </tr>\n",
       "    <tr>\n",
       "      <th>user_id</th>\n",
       "      <th></th>\n",
       "      <th></th>\n",
       "      <th></th>\n",
       "      <th></th>\n",
       "      <th></th>\n",
       "      <th></th>\n",
       "      <th></th>\n",
       "      <th></th>\n",
       "      <th></th>\n",
       "      <th></th>\n",
       "      <th></th>\n",
       "      <th></th>\n",
       "      <th></th>\n",
       "      <th></th>\n",
       "      <th></th>\n",
       "      <th></th>\n",
       "      <th></th>\n",
       "      <th></th>\n",
       "      <th></th>\n",
       "      <th></th>\n",
       "      <th></th>\n",
       "    </tr>\n",
       "  </thead>\n",
       "  <tbody>\n",
       "    <tr>\n",
       "      <th>1</th>\n",
       "      <td>NaN</td>\n",
       "      <td>NaN</td>\n",
       "      <td>NaN</td>\n",
       "      <td>NaN</td>\n",
       "      <td>NaN</td>\n",
       "      <td>NaN</td>\n",
       "      <td>NaN</td>\n",
       "      <td>NaN</td>\n",
       "      <td>NaN</td>\n",
       "      <td>NaN</td>\n",
       "      <td>...</td>\n",
       "      <td>NaN</td>\n",
       "      <td>NaN</td>\n",
       "      <td>NaN</td>\n",
       "      <td>NaN</td>\n",
       "      <td>NaN</td>\n",
       "      <td>NaN</td>\n",
       "      <td>NaN</td>\n",
       "      <td>NaN</td>\n",
       "      <td>NaN</td>\n",
       "      <td>NaN</td>\n",
       "    </tr>\n",
       "    <tr>\n",
       "      <th>2</th>\n",
       "      <td>NaN</td>\n",
       "      <td>NaN</td>\n",
       "      <td>NaN</td>\n",
       "      <td>NaN</td>\n",
       "      <td>NaN</td>\n",
       "      <td>NaN</td>\n",
       "      <td>NaN</td>\n",
       "      <td>NaN</td>\n",
       "      <td>NaN</td>\n",
       "      <td>NaN</td>\n",
       "      <td>...</td>\n",
       "      <td>NaN</td>\n",
       "      <td>NaN</td>\n",
       "      <td>NaN</td>\n",
       "      <td>NaN</td>\n",
       "      <td>NaN</td>\n",
       "      <td>NaN</td>\n",
       "      <td>NaN</td>\n",
       "      <td>NaN</td>\n",
       "      <td>NaN</td>\n",
       "      <td>NaN</td>\n",
       "    </tr>\n",
       "    <tr>\n",
       "      <th>3</th>\n",
       "      <td>NaN</td>\n",
       "      <td>NaN</td>\n",
       "      <td>NaN</td>\n",
       "      <td>NaN</td>\n",
       "      <td>NaN</td>\n",
       "      <td>NaN</td>\n",
       "      <td>NaN</td>\n",
       "      <td>NaN</td>\n",
       "      <td>NaN</td>\n",
       "      <td>NaN</td>\n",
       "      <td>...</td>\n",
       "      <td>NaN</td>\n",
       "      <td>NaN</td>\n",
       "      <td>NaN</td>\n",
       "      <td>NaN</td>\n",
       "      <td>NaN</td>\n",
       "      <td>NaN</td>\n",
       "      <td>NaN</td>\n",
       "      <td>NaN</td>\n",
       "      <td>NaN</td>\n",
       "      <td>NaN</td>\n",
       "    </tr>\n",
       "    <tr>\n",
       "      <th>5</th>\n",
       "      <td>NaN</td>\n",
       "      <td>NaN</td>\n",
       "      <td>NaN</td>\n",
       "      <td>NaN</td>\n",
       "      <td>NaN</td>\n",
       "      <td>NaN</td>\n",
       "      <td>NaN</td>\n",
       "      <td>NaN</td>\n",
       "      <td>NaN</td>\n",
       "      <td>NaN</td>\n",
       "      <td>...</td>\n",
       "      <td>NaN</td>\n",
       "      <td>NaN</td>\n",
       "      <td>NaN</td>\n",
       "      <td>NaN</td>\n",
       "      <td>NaN</td>\n",
       "      <td>NaN</td>\n",
       "      <td>NaN</td>\n",
       "      <td>NaN</td>\n",
       "      <td>2.0</td>\n",
       "      <td>NaN</td>\n",
       "    </tr>\n",
       "    <tr>\n",
       "      <th>7</th>\n",
       "      <td>NaN</td>\n",
       "      <td>NaN</td>\n",
       "      <td>NaN</td>\n",
       "      <td>NaN</td>\n",
       "      <td>NaN</td>\n",
       "      <td>NaN</td>\n",
       "      <td>NaN</td>\n",
       "      <td>NaN</td>\n",
       "      <td>NaN</td>\n",
       "      <td>NaN</td>\n",
       "      <td>...</td>\n",
       "      <td>NaN</td>\n",
       "      <td>NaN</td>\n",
       "      <td>NaN</td>\n",
       "      <td>NaN</td>\n",
       "      <td>NaN</td>\n",
       "      <td>NaN</td>\n",
       "      <td>NaN</td>\n",
       "      <td>NaN</td>\n",
       "      <td>NaN</td>\n",
       "      <td>NaN</td>\n",
       "    </tr>\n",
       "  </tbody>\n",
       "</table>\n",
       "<p>5 rows × 2708 columns</p>\n",
       "</div>"
      ],
      "text/plain": [
       "name     .hack//Roots  .hack//Sign  .hack//Tasogare no Udewa Densetsu  009-1  \\\n",
       "user_id                                                                        \n",
       "1                 NaN          NaN                                NaN    NaN   \n",
       "2                 NaN          NaN                                NaN    NaN   \n",
       "3                 NaN          NaN                                NaN    NaN   \n",
       "5                 NaN          NaN                                NaN    NaN   \n",
       "7                 NaN          NaN                                NaN    NaN   \n",
       "\n",
       "name     07-Ghost  11eyes  12-sai.: Chicchana Mune no Tokimeki  \\\n",
       "user_id                                                          \n",
       "1             NaN     NaN                                  NaN   \n",
       "2             NaN     NaN                                  NaN   \n",
       "3             NaN     NaN                                  NaN   \n",
       "5             NaN     NaN                                  NaN   \n",
       "7             NaN     NaN                                  NaN   \n",
       "\n",
       "name     3 Choume no Tama: Uchi no Tama Shirimasenka?  30-sai no Hoken Taiiku  \\\n",
       "user_id                                                                         \n",
       "1                                                 NaN                     NaN   \n",
       "2                                                 NaN                     NaN   \n",
       "3                                                 NaN                     NaN   \n",
       "5                                                 NaN                     NaN   \n",
       "7                                                 NaN                     NaN   \n",
       "\n",
       "name     91 Days  ...  Zone of the Enders: Dolores, I  \\\n",
       "user_id           ...                                   \n",
       "1            NaN  ...                             NaN   \n",
       "2            NaN  ...                             NaN   \n",
       "3            NaN  ...                             NaN   \n",
       "5            NaN  ...                             NaN   \n",
       "7            NaN  ...                             NaN   \n",
       "\n",
       "name     Zukkoke Knight: Don De La Mancha  ef: A Tale of Melodies.  \\\n",
       "user_id                                                              \n",
       "1                                     NaN                      NaN   \n",
       "2                                     NaN                      NaN   \n",
       "3                                     NaN                      NaN   \n",
       "5                                     NaN                      NaN   \n",
       "7                                     NaN                      NaN   \n",
       "\n",
       "name     ef: A Tale of Memories.  gdgd Fairies  gdgd Fairies 2  \\\n",
       "user_id                                                          \n",
       "1                            NaN           NaN             NaN   \n",
       "2                            NaN           NaN             NaN   \n",
       "3                            NaN           NaN             NaN   \n",
       "5                            NaN           NaN             NaN   \n",
       "7                            NaN           NaN             NaN   \n",
       "\n",
       "name     iDOLM@STER Xenoglossia  s.CRY.ed  xxxHOLiC  xxxHOLiC Kei  \n",
       "user_id                                                            \n",
       "1                           NaN       NaN       NaN           NaN  \n",
       "2                           NaN       NaN       NaN           NaN  \n",
       "3                           NaN       NaN       NaN           NaN  \n",
       "5                           NaN       NaN       2.0           NaN  \n",
       "7                           NaN       NaN       NaN           NaN  \n",
       "\n",
       "[5 rows x 2708 columns]"
      ]
     },
     "execution_count": 19,
     "metadata": {},
     "output_type": "execute_result"
    }
   ],
   "source": [
    "print(piv.shape)\n",
    "piv.head()"
   ]
  },
  {
   "cell_type": "code",
   "execution_count": null,
   "metadata": {
    "_cell_guid": "a7632dde-c89f-3103-cb1e-36b23d530628"
   },
   "outputs": [],
   "source": [
    "# Note: As we are subtracting the mean from each rating to standardize\n",
    "# all users with only one rating or who had rated everything the same will be dropped\n",
    "\n",
    "# Normalize the values\n",
    "piv_norm = piv.apply(lambda x: (x-np.mean(x))/(np.max(x)-np.min(x)), axis=1)\n",
    "\n",
    "\n",
    "# Drop all columns containing only zeros representing users who did not rate\n",
    "piv_norm.fillna(0, inplace=True)\n",
    "piv_norm = piv_norm.T\n",
    "piv_norm = piv_norm.loc[:, (piv_norm != 0).any(axis=0)]"
   ]
  },
  {
   "cell_type": "code",
   "execution_count": null,
   "metadata": {
    "_cell_guid": "1784d9ce-6851-6388-dd05-0ff26493d268"
   },
   "outputs": [],
   "source": [
    "# Our data needs to be in a sparse matrix format to be read by the following functions\n",
    "\n",
    "piv_sparse = sp.sparse.csr_matrix(piv_norm.values)"
   ]
  },
  {
   "cell_type": "markdown",
   "metadata": {
    "_cell_guid": "56f295e3-153f-5628-f309-559b5494e30c"
   },
   "source": [
    "These matrices show us the computed cosine similarity values \n",
    "between each user/user array pair and item/item array pair."
   ]
  },
  {
   "cell_type": "code",
   "execution_count": null,
   "metadata": {
    "_cell_guid": "7fa31240-3634-73e3-f0a1-9e8ecfb399dc"
   },
   "outputs": [],
   "source": [
    "item_similarity = cosine_similarity(piv_sparse)\n",
    "user_similarity = cosine_similarity(piv_sparse.T)"
   ]
  },
  {
   "cell_type": "code",
   "execution_count": null,
   "metadata": {
    "_cell_guid": "49228028-329f-cafa-6a31-87e27c2a7e54"
   },
   "outputs": [],
   "source": [
    "# Inserting the similarity matricies into dataframe objects\n",
    "\n",
    "item_sim_df = pd.DataFrame(item_similarity, index = piv_norm.index, columns = piv_norm.index)\n",
    "user_sim_df = pd.DataFrame(user_similarity, index = piv_norm.columns, columns = piv_norm.columns)"
   ]
  },
  {
   "cell_type": "code",
   "execution_count": null,
   "metadata": {
    "_cell_guid": "5cd7919d-163a-7fd8-da8e-c06ce1d705f1"
   },
   "outputs": [],
   "source": [
    "# This function will return the top 10 shows with the highest cosine similarity value\n",
    "\n",
    "def top_animes(anime_name):\n",
    "    count = 1\n",
    "    print('Similar shows to {} include:\\n'.format(anime_name))\n",
    "    for item in item_sim_df.sort_values(by = anime_name, ascending = False).index[1:11]:\n",
    "        print('No. {}: {}'.format(count, item))\n",
    "        count +=1  "
   ]
  },
  {
   "cell_type": "code",
   "execution_count": null,
   "metadata": {
    "_cell_guid": "725964d6-986f-d34b-a616-c10b4f504fc7"
   },
   "outputs": [],
   "source": [
    "# This function will return the top 5 users with the highest similarity value \n",
    "\n",
    "def top_users(user):\n",
    "    \n",
    "    if user not in piv_norm.columns:\n",
    "        return('No data available on user {}'.format(user))\n",
    "    \n",
    "    print('Most Similar Users:\\n')\n",
    "    sim_values = user_sim_df.sort_values(by=user, ascending=False).loc[:,user].tolist()[1:11]\n",
    "    sim_users = user_sim_df.sort_values(by=user, ascending=False).index[1:11]\n",
    "    zipped = zip(sim_users, sim_values,)\n",
    "    for user, sim in zipped:\n",
    "        print('User #{0}, Similarity value: {1:.2f}'.format(user, sim)) "
   ]
  },
  {
   "cell_type": "code",
   "execution_count": 3,
   "metadata": {
    "_cell_guid": "876a5010-0e99-7aa8-5e9c-e704181b81a3"
   },
   "outputs": [],
   "source": [
    "# This function constructs a list of lists containing the highest rated shows per similar user\n",
    "# and returns the name of the show along with the frequency it appears in the list\n",
    "\n",
    "def similar_user_recs(user):\n",
    "    \n",
    "    if user not in piv_norm.columns:\n",
    "        return('No data available on user {}'.format(user))\n",
    "    \n",
    "    sim_users = user_sim_df.sort_values(by=user, ascending=False).index[1:11]\n",
    "    best = []\n",
    "    most_common = {}\n",
    "    \n",
    "    for i in sim_users:\n",
    "        max_score = piv_norm.loc[:, i].max()\n",
    "        best.append(piv_norm[piv_norm.loc[:, i]==max_score].index.tolist())\n",
    "    for i in range(len(best)):\n",
    "        for j in best[i]:\n",
    "            if j in most_common:\n",
    "                most_common[j] += 1\n",
    "            else:\n",
    "                most_common[j] = 1\n",
    "    sorted_list = sorted(most_common.items(), key=operator.itemgetter(1), reverse=True)\n",
    "    return sorted_list[:5]    "
   ]
  },
  {
   "cell_type": "code",
   "execution_count": 4,
   "metadata": {
    "_cell_guid": "55c0e789-caa4-3c6d-c062-f58fb8268a2e"
   },
   "outputs": [],
   "source": [
    "# This function calculates the weighted average of similar users\n",
    "# to determine a potential rating for an input user and show\n",
    "\n",
    "def predicted_rating(anime_name, user):\n",
    "    sim_users = user_sim_df.sort_values(by=user, ascending=False).index[1:1000]\n",
    "    user_values = user_sim_df.sort_values(by=user, ascending=False).loc[:,user].tolist()[1:1000]\n",
    "    rating_list = []\n",
    "    weight_list = []\n",
    "    for j, i in enumerate(sim_users):\n",
    "        rating = piv.loc[i, anime_name]\n",
    "        similarity = user_values[j]\n",
    "        if np.isnan(rating):\n",
    "            continue\n",
    "        elif not np.isnan(rating):\n",
    "            rating_list.append(rating*similarity)\n",
    "            weight_list.append(similarity)\n",
    "    return sum(rating_list)/sum(weight_list)    "
   ]
  },
  {
   "cell_type": "code",
   "execution_count": 5,
   "metadata": {
    "_cell_guid": "50988cb1-4034-4316-2638-d0b5954b0c26"
   },
   "outputs": [
    {
     "ename": "NameError",
     "evalue": "name 'top_animes' is not defined",
     "output_type": "error",
     "traceback": [
      "\u001b[1;31m---------------------------------------------------------------------------\u001b[0m",
      "\u001b[1;31mNameError\u001b[0m                                 Traceback (most recent call last)",
      "Input \u001b[1;32mIn [5]\u001b[0m, in \u001b[0;36m<cell line: 1>\u001b[1;34m()\u001b[0m\n\u001b[1;32m----> 1\u001b[0m \u001b[43mtop_animes\u001b[49m(\u001b[38;5;124m'\u001b[39m\u001b[38;5;124mCowboy Bebop\u001b[39m\u001b[38;5;124m'\u001b[39m)\n",
      "\u001b[1;31mNameError\u001b[0m: name 'top_animes' is not defined"
     ]
    }
   ],
   "source": [
    "top_animes('Cowboy Bebop')"
   ]
  },
  {
   "cell_type": "code",
   "execution_count": 6,
   "metadata": {
    "_cell_guid": "360f71b5-86dd-166a-a235-4ae662449a77"
   },
   "outputs": [
    {
     "ename": "NameError",
     "evalue": "name 'top_users' is not defined",
     "output_type": "error",
     "traceback": [
      "\u001b[1;31m---------------------------------------------------------------------------\u001b[0m",
      "\u001b[1;31mNameError\u001b[0m                                 Traceback (most recent call last)",
      "Input \u001b[1;32mIn [6]\u001b[0m, in \u001b[0;36m<cell line: 1>\u001b[1;34m()\u001b[0m\n\u001b[1;32m----> 1\u001b[0m \u001b[43mtop_users\u001b[49m(\u001b[38;5;241m3\u001b[39m)\n",
      "\u001b[1;31mNameError\u001b[0m: name 'top_users' is not defined"
     ]
    }
   ],
   "source": [
    "top_users(3)"
   ]
  },
  {
   "cell_type": "code",
   "execution_count": 7,
   "metadata": {
    "_cell_guid": "99affa09-1a22-e7d0-7f39-f785cd8b89a4"
   },
   "outputs": [
    {
     "ename": "NameError",
     "evalue": "name 'piv_norm' is not defined",
     "output_type": "error",
     "traceback": [
      "\u001b[1;31m---------------------------------------------------------------------------\u001b[0m",
      "\u001b[1;31mNameError\u001b[0m                                 Traceback (most recent call last)",
      "Input \u001b[1;32mIn [7]\u001b[0m, in \u001b[0;36m<cell line: 1>\u001b[1;34m()\u001b[0m\n\u001b[1;32m----> 1\u001b[0m \u001b[43msimilar_user_recs\u001b[49m\u001b[43m(\u001b[49m\u001b[38;5;241;43m3\u001b[39;49m\u001b[43m)\u001b[49m\n",
      "Input \u001b[1;32mIn [3]\u001b[0m, in \u001b[0;36msimilar_user_recs\u001b[1;34m(user)\u001b[0m\n\u001b[0;32m      4\u001b[0m \u001b[38;5;28;01mdef\u001b[39;00m \u001b[38;5;21msimilar_user_recs\u001b[39m(user):\n\u001b[1;32m----> 6\u001b[0m     \u001b[38;5;28;01mif\u001b[39;00m user \u001b[38;5;129;01mnot\u001b[39;00m \u001b[38;5;129;01min\u001b[39;00m \u001b[43mpiv_norm\u001b[49m\u001b[38;5;241m.\u001b[39mcolumns:\n\u001b[0;32m      7\u001b[0m         \u001b[38;5;28;01mreturn\u001b[39;00m(\u001b[38;5;124m'\u001b[39m\u001b[38;5;124mNo data available on user \u001b[39m\u001b[38;5;132;01m{}\u001b[39;00m\u001b[38;5;124m'\u001b[39m\u001b[38;5;241m.\u001b[39mformat(user))\n\u001b[0;32m      9\u001b[0m     sim_users \u001b[38;5;241m=\u001b[39m user_sim_df\u001b[38;5;241m.\u001b[39msort_values(by\u001b[38;5;241m=\u001b[39muser, ascending\u001b[38;5;241m=\u001b[39m\u001b[38;5;28;01mFalse\u001b[39;00m)\u001b[38;5;241m.\u001b[39mindex[\u001b[38;5;241m1\u001b[39m:\u001b[38;5;241m11\u001b[39m]\n",
      "\u001b[1;31mNameError\u001b[0m: name 'piv_norm' is not defined"
     ]
    }
   ],
   "source": [
    "similar_user_recs(3)"
   ]
  },
  {
   "cell_type": "code",
   "execution_count": 8,
   "metadata": {
    "_cell_guid": "007764c2-bafc-a061-d9a8-eb03a12e629f"
   },
   "outputs": [
    {
     "ename": "NameError",
     "evalue": "name 'user_sim_df' is not defined",
     "output_type": "error",
     "traceback": [
      "\u001b[1;31m---------------------------------------------------------------------------\u001b[0m",
      "\u001b[1;31mNameError\u001b[0m                                 Traceback (most recent call last)",
      "Input \u001b[1;32mIn [8]\u001b[0m, in \u001b[0;36m<cell line: 1>\u001b[1;34m()\u001b[0m\n\u001b[1;32m----> 1\u001b[0m \u001b[43mpredicted_rating\u001b[49m\u001b[43m(\u001b[49m\u001b[38;5;124;43m'\u001b[39;49m\u001b[38;5;124;43mCowboy Bebop\u001b[39;49m\u001b[38;5;124;43m'\u001b[39;49m\u001b[43m,\u001b[49m\u001b[43m \u001b[49m\u001b[38;5;241;43m3\u001b[39;49m\u001b[43m)\u001b[49m\n",
      "Input \u001b[1;32mIn [4]\u001b[0m, in \u001b[0;36mpredicted_rating\u001b[1;34m(anime_name, user)\u001b[0m\n\u001b[0;32m      4\u001b[0m \u001b[38;5;28;01mdef\u001b[39;00m \u001b[38;5;21mpredicted_rating\u001b[39m(anime_name, user):\n\u001b[1;32m----> 5\u001b[0m     sim_users \u001b[38;5;241m=\u001b[39m \u001b[43muser_sim_df\u001b[49m\u001b[38;5;241m.\u001b[39msort_values(by\u001b[38;5;241m=\u001b[39muser, ascending\u001b[38;5;241m=\u001b[39m\u001b[38;5;28;01mFalse\u001b[39;00m)\u001b[38;5;241m.\u001b[39mindex[\u001b[38;5;241m1\u001b[39m:\u001b[38;5;241m1000\u001b[39m]\n\u001b[0;32m      6\u001b[0m     user_values \u001b[38;5;241m=\u001b[39m user_sim_df\u001b[38;5;241m.\u001b[39msort_values(by\u001b[38;5;241m=\u001b[39muser, ascending\u001b[38;5;241m=\u001b[39m\u001b[38;5;28;01mFalse\u001b[39;00m)\u001b[38;5;241m.\u001b[39mloc[:,user]\u001b[38;5;241m.\u001b[39mtolist()[\u001b[38;5;241m1\u001b[39m:\u001b[38;5;241m1000\u001b[39m]\n\u001b[0;32m      7\u001b[0m     rating_list \u001b[38;5;241m=\u001b[39m []\n",
      "\u001b[1;31mNameError\u001b[0m: name 'user_sim_df' is not defined"
     ]
    }
   ],
   "source": [
    "predicted_rating('Cowboy Bebop', 3)"
   ]
  },
  {
   "cell_type": "markdown",
   "metadata": {
    "_cell_guid": "6c0f46ae-dcab-82d5-0023-fecf156b0a5f"
   },
   "source": [
    "Below we'll see how the predict_rating function performs compared to the observed rated values for user 3."
   ]
  },
  {
   "cell_type": "code",
   "execution_count": 9,
   "metadata": {
    "_cell_guid": "1be578f6-4990-2a5a-a121-c4f2e63279a3"
   },
   "outputs": [
    {
     "ename": "NameError",
     "evalue": "name 'piv' is not defined",
     "output_type": "error",
     "traceback": [
      "\u001b[1;31m---------------------------------------------------------------------------\u001b[0m",
      "\u001b[1;31mNameError\u001b[0m                                 Traceback (most recent call last)",
      "Input \u001b[1;32mIn [9]\u001b[0m, in \u001b[0;36m<cell line: 3>\u001b[1;34m()\u001b[0m\n\u001b[0;32m      1\u001b[0m \u001b[38;5;66;03m# Creates a list of every show watched by user 3\u001b[39;00m\n\u001b[1;32m----> 3\u001b[0m watched \u001b[38;5;241m=\u001b[39m \u001b[43mpiv\u001b[49m\u001b[38;5;241m.\u001b[39mT[piv\u001b[38;5;241m.\u001b[39mloc[\u001b[38;5;241m3\u001b[39m,:]\u001b[38;5;241m>\u001b[39m\u001b[38;5;241m0\u001b[39m]\u001b[38;5;241m.\u001b[39mindex\u001b[38;5;241m.\u001b[39mtolist()\n",
      "\u001b[1;31mNameError\u001b[0m: name 'piv' is not defined"
     ]
    }
   ],
   "source": [
    "# Creates a list of every show watched by user 3\n",
    "\n",
    "watched = piv.T[piv.loc[3,:]>0].index.tolist()"
   ]
  },
  {
   "cell_type": "code",
   "execution_count": 10,
   "metadata": {
    "_cell_guid": "716aba34-a60a-2418-822c-8143d512da74"
   },
   "outputs": [
    {
     "ename": "NameError",
     "evalue": "name 'watched' is not defined",
     "output_type": "error",
     "traceback": [
      "\u001b[1;31m---------------------------------------------------------------------------\u001b[0m",
      "\u001b[1;31mNameError\u001b[0m                                 Traceback (most recent call last)",
      "Input \u001b[1;32mIn [10]\u001b[0m, in \u001b[0;36m<cell line: 4>\u001b[1;34m()\u001b[0m\n\u001b[0;32m      1\u001b[0m \u001b[38;5;66;03m# Make a list of the squared errors between actual and predicted value\u001b[39;00m\n\u001b[0;32m      3\u001b[0m errors \u001b[38;5;241m=\u001b[39m []\n\u001b[1;32m----> 4\u001b[0m \u001b[38;5;28;01mfor\u001b[39;00m i \u001b[38;5;129;01min\u001b[39;00m \u001b[43mwatched\u001b[49m:\n\u001b[0;32m      5\u001b[0m     actual\u001b[38;5;241m=\u001b[39mpiv\u001b[38;5;241m.\u001b[39mloc[\u001b[38;5;241m3\u001b[39m, i]\n\u001b[0;32m      6\u001b[0m     predicted \u001b[38;5;241m=\u001b[39m predicted_rating(i, \u001b[38;5;241m3\u001b[39m)\n",
      "\u001b[1;31mNameError\u001b[0m: name 'watched' is not defined"
     ]
    }
   ],
   "source": [
    "# Make a list of the squared errors between actual and predicted value\n",
    "\n",
    "errors = []\n",
    "for i in watched:\n",
    "    actual=piv.loc[3, i]\n",
    "    predicted = predicted_rating(i, 3)\n",
    "    errors.append((actual-predicted)**2)"
   ]
  },
  {
   "cell_type": "code",
   "execution_count": 11,
   "metadata": {
    "_cell_guid": "6c05ec3d-7874-6ff2-c0a9-7d732b3485cf"
   },
   "outputs": [
    {
     "name": "stderr",
     "output_type": "stream",
     "text": [
      "C:\\Users\\Wotte\\anaconda3\\lib\\site-packages\\numpy\\core\\fromnumeric.py:3440: RuntimeWarning: Mean of empty slice.\n",
      "  return _methods._mean(a, axis=axis, dtype=dtype,\n",
      "C:\\Users\\Wotte\\anaconda3\\lib\\site-packages\\numpy\\core\\_methods.py:189: RuntimeWarning: invalid value encountered in double_scalars\n",
      "  ret = ret.dtype.type(ret / rcount)\n"
     ]
    },
    {
     "data": {
      "text/plain": [
       "nan"
      ]
     },
     "execution_count": 11,
     "metadata": {},
     "output_type": "execute_result"
    }
   ],
   "source": [
    "# This is the average squared error for user 3\n",
    "np.mean(errors)"
   ]
  },
  {
   "cell_type": "markdown",
   "metadata": {
    "_cell_guid": "00398617-041c-d135-1ca7-5566e49d4e8e"
   },
   "source": [
    "This is my first Kaggle submission and python project in general so any helpful guidance about best practices or efficiency would be much appreciated. Thank you!"
   ]
  },
  {
   "cell_type": "code",
   "execution_count": null,
   "metadata": {},
   "outputs": [],
   "source": []
  }
 ],
 "metadata": {
  "_change_revision": 3,
  "_is_fork": false,
  "kernelspec": {
   "display_name": "Python 3 (ipykernel)",
   "language": "python",
   "name": "python3"
  },
  "language_info": {
   "codemirror_mode": {
    "name": "ipython",
    "version": 3
   },
   "file_extension": ".py",
   "mimetype": "text/x-python",
   "name": "python",
   "nbconvert_exporter": "python",
   "pygments_lexer": "ipython3",
   "version": "3.9.12"
  }
 },
 "nbformat": 4,
 "nbformat_minor": 1
}
